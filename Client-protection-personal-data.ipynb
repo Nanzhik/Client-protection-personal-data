{
 "cells": [
  {
   "cell_type": "markdown",
   "id": "2221d382",
   "metadata": {
    "toc": true
   },
   "source": [
    "<h1>Содержание<span class=\"tocSkip\"></span></h1>\n",
    "<div class=\"toc\"><ul class=\"toc-item\"><li><span><a href=\"#Описание-проекта\" data-toc-modified-id=\"Описание-проекта-1\"><span class=\"toc-item-num\">1&nbsp;&nbsp;</span>Описание проекта</a></span><ul class=\"toc-item\"><li><span><a href=\"#Описание-данных\" data-toc-modified-id=\"Описание-данных-1.1\"><span class=\"toc-item-num\">1.1&nbsp;&nbsp;</span>Описание данных</a></span></li><li><span><a href=\"#Ход-выполнения-проекта\" data-toc-modified-id=\"Ход-выполнения-проекта-1.2\"><span class=\"toc-item-num\">1.2&nbsp;&nbsp;</span>Ход выполнения проекта</a></span></li></ul></li><li><span><a href=\"#Загрузка-и-изучение-данных\" data-toc-modified-id=\"Загрузка-и-изучение-данных-2\"><span class=\"toc-item-num\">2&nbsp;&nbsp;</span>Загрузка и изучение данных</a></span><ul class=\"toc-item\"><li><span><a href=\"#Предобработка-данных\" data-toc-modified-id=\"Предобработка-данных-2.1\"><span class=\"toc-item-num\">2.1&nbsp;&nbsp;</span>Предобработка данных</a></span></li></ul></li><li><span><a href=\"#Умножение-матриц\" data-toc-modified-id=\"Умножение-матриц-3\"><span class=\"toc-item-num\">3&nbsp;&nbsp;</span>Умножение матриц</a></span></li><li><span><a href=\"#Алгоритм-преобразования-данных-для-решения-задачи\" data-toc-modified-id=\"Алгоритм-преобразования-данных-для-решения-задачи-4\"><span class=\"toc-item-num\">4&nbsp;&nbsp;</span>Алгоритм преобразования данных для решения задачи</a></span></li><li><span><a href=\"#Проверка-алгоритма\" data-toc-modified-id=\"Проверка-алгоритма-5\"><span class=\"toc-item-num\">5&nbsp;&nbsp;</span>Проверка алгоритма</a></span></li></ul></div>"
   ]
  },
  {
   "cell_type": "markdown",
   "id": "e8ec6e62",
   "metadata": {},
   "source": [
    "# Защита персональных данных клиентов"
   ]
  },
  {
   "cell_type": "markdown",
   "id": "c2cbdd89",
   "metadata": {},
   "source": [
    "## Описание проекта"
   ]
  },
  {
   "cell_type": "markdown",
   "id": "8269b102",
   "metadata": {},
   "source": [
    "**Задача:** защитить данные клиентов страховой компании «Хоть потоп». Разработать такой метод преобразования данных, чтобы по ним было сложно восстановить персональную информацию и обосновать корректность его работы.  \n",
    "Нужно защитить данные, чтобы при преобразовании качество моделей машинного обучения не ухудшилось. Подбирать наилучшую модель не требуется.  "
   ]
  },
  {
   "cell_type": "markdown",
   "id": "1dabe21e",
   "metadata": {},
   "source": [
    "### Описание данных"
   ]
  },
  {
   "cell_type": "markdown",
   "id": "1eb66923",
   "metadata": {},
   "source": [
    "Набор данных находится в файле `/datasets/insurance.csv`.\n",
    "* Признаки: пол, возраст и зарплата застрахованного, количество членов его семьи.\n",
    "* Целевой признак: количество страховых выплат клиенту за последние 5 лет.  "
   ]
  },
  {
   "cell_type": "markdown",
   "id": "3d5f2ac8",
   "metadata": {},
   "source": [
    "### Ход выполнения проекта"
   ]
  },
  {
   "cell_type": "markdown",
   "id": "5b2a2a1e",
   "metadata": {},
   "source": [
    "В ходе выполнения решения задачи необходимо проделать следующие шаги:\n",
    "1. Загрузить и изучить данные;\n",
    "2. Умножить признаки на обратимую матрицу. Зафиксировать наличие изменений качества линейной регрессии;\n",
    "3. Предложить алгоритм преобразования данных для решения задачи;\n",
    "4. Запрограммировать предложенный алгоритм, применив матричные операции. Проверить, что качество линейной регрессии не отличается ДО и ПОСЛЕ преобразования, применив метрику *R2*."
   ]
  },
  {
   "cell_type": "markdown",
   "id": "cb436424",
   "metadata": {},
   "source": [
    "## Загрузка и изучение данных"
   ]
  },
  {
   "cell_type": "code",
   "execution_count": 1,
   "id": "5af37071",
   "metadata": {},
   "outputs": [],
   "source": [
    "# импорт библиотек\n",
    "import pandas as pd\n",
    "import matplotlib.pyplot as plt\n",
    "import seaborn as sns\n",
    "import numpy as np\n",
    "\n",
    "from sklearn.linear_model import LinearRegression\n",
    "from sklearn.metrics import r2_score\n",
    "\n",
    "import warnings"
   ]
  },
  {
   "cell_type": "code",
   "execution_count": 2,
   "id": "10d1336c",
   "metadata": {},
   "outputs": [],
   "source": [
    "# увеличим максимальное количество отображаемых столбцов\n",
    "pd.set_option('display.max_columns', None)\n",
    "\n",
    "# Задаем количество знаков после запятой для всех значений в датафрейме\n",
    "pd.set_option('float_format', '{:.2f}'.format) \n",
    "\n",
    "# Вывести из под комментария перед финальным запуском:\n",
    "# Игнорируем предупреждения о возможных изменениях работы функций в будущих версиях в Pandas\n",
    "warnings.filterwarnings(\"ignore\") "
   ]
  },
  {
   "cell_type": "code",
   "execution_count": 3,
   "id": "02b2c4db",
   "metadata": {},
   "outputs": [],
   "source": [
    "# считывание csv-файлов\n",
    "try: \n",
    "    main_df = pd.read_csv('/datasets/insurance.csv')\n",
    "except:\n",
    "    main_df = pd.read_csv('insurance.csv')"
   ]
  },
  {
   "cell_type": "markdown",
   "id": "3ec7745e-0f16-41b4-82fb-a03af530dd01",
   "metadata": {},
   "source": [
    "Создадим копию копии датафреймов, чтобы убедиться, что данные не испорчены после предобработки."
   ]
  },
  {
   "cell_type": "code",
   "execution_count": 4,
   "id": "3c39381c-4e40-4c2f-b067-0910eb648b26",
   "metadata": {},
   "outputs": [],
   "source": [
    "df = main_df.copy(deep=True)"
   ]
  },
  {
   "cell_type": "markdown",
   "id": "20589ed5-17fc-40a4-a5c1-18867e4b7037",
   "metadata": {},
   "source": [
    "Для вывода общей информации по датафрейму напишем функцию:"
   ]
  },
  {
   "cell_type": "code",
   "execution_count": 5,
   "id": "1da4456f-91e8-4d35-8e77-1a05f5dcfc7a",
   "metadata": {},
   "outputs": [],
   "source": [
    "def description_df(df):\n",
    "    '''\n",
    "    Выводит первые 5 строк датафрейма, общую информацию о датафрейме,\n",
    "    показывает описание количественных признаков, проверяет наличие дубликатов\n",
    "    '''\n",
    "       \n",
    "    # Выведем общую информацию о таблице\n",
    "    display(df.head())\n",
    "    display(df.info())\n",
    "    display(df.describe())\n",
    "    \n",
    "    # Проверим наличие дубликатов\n",
    "    if df.duplicated().sum() == 0:\n",
    "        print('Дубликатов не обнаружено')\n",
    "    else:\n",
    "        print('Количество полных дубликатов:', df.duplicated().sum())"
   ]
  },
  {
   "cell_type": "markdown",
   "id": "52db31c6-92c4-4ba9-8c67-fbed979101e9",
   "metadata": {},
   "source": [
    "Изучим общую информацию:"
   ]
  },
  {
   "cell_type": "code",
   "execution_count": 6,
   "id": "0db132fe-8eb1-43d7-8cfc-eb0fa1cee520",
   "metadata": {},
   "outputs": [
    {
     "data": {
      "text/html": [
       "<div>\n",
       "<style scoped>\n",
       "    .dataframe tbody tr th:only-of-type {\n",
       "        vertical-align: middle;\n",
       "    }\n",
       "\n",
       "    .dataframe tbody tr th {\n",
       "        vertical-align: top;\n",
       "    }\n",
       "\n",
       "    .dataframe thead th {\n",
       "        text-align: right;\n",
       "    }\n",
       "</style>\n",
       "<table border=\"1\" class=\"dataframe\">\n",
       "  <thead>\n",
       "    <tr style=\"text-align: right;\">\n",
       "      <th></th>\n",
       "      <th>Пол</th>\n",
       "      <th>Возраст</th>\n",
       "      <th>Зарплата</th>\n",
       "      <th>Члены семьи</th>\n",
       "      <th>Страховые выплаты</th>\n",
       "    </tr>\n",
       "  </thead>\n",
       "  <tbody>\n",
       "    <tr>\n",
       "      <th>0</th>\n",
       "      <td>1</td>\n",
       "      <td>41.00</td>\n",
       "      <td>49600.00</td>\n",
       "      <td>1</td>\n",
       "      <td>0</td>\n",
       "    </tr>\n",
       "    <tr>\n",
       "      <th>1</th>\n",
       "      <td>0</td>\n",
       "      <td>46.00</td>\n",
       "      <td>38000.00</td>\n",
       "      <td>1</td>\n",
       "      <td>1</td>\n",
       "    </tr>\n",
       "    <tr>\n",
       "      <th>2</th>\n",
       "      <td>0</td>\n",
       "      <td>29.00</td>\n",
       "      <td>21000.00</td>\n",
       "      <td>0</td>\n",
       "      <td>0</td>\n",
       "    </tr>\n",
       "    <tr>\n",
       "      <th>3</th>\n",
       "      <td>0</td>\n",
       "      <td>21.00</td>\n",
       "      <td>41700.00</td>\n",
       "      <td>2</td>\n",
       "      <td>0</td>\n",
       "    </tr>\n",
       "    <tr>\n",
       "      <th>4</th>\n",
       "      <td>1</td>\n",
       "      <td>28.00</td>\n",
       "      <td>26100.00</td>\n",
       "      <td>0</td>\n",
       "      <td>0</td>\n",
       "    </tr>\n",
       "  </tbody>\n",
       "</table>\n",
       "</div>"
      ],
      "text/plain": [
       "   Пол  Возраст  Зарплата  Члены семьи  Страховые выплаты\n",
       "0    1    41.00  49600.00            1                  0\n",
       "1    0    46.00  38000.00            1                  1\n",
       "2    0    29.00  21000.00            0                  0\n",
       "3    0    21.00  41700.00            2                  0\n",
       "4    1    28.00  26100.00            0                  0"
      ]
     },
     "metadata": {},
     "output_type": "display_data"
    },
    {
     "name": "stdout",
     "output_type": "stream",
     "text": [
      "<class 'pandas.core.frame.DataFrame'>\n",
      "RangeIndex: 5000 entries, 0 to 4999\n",
      "Data columns (total 5 columns):\n",
      " #   Column             Non-Null Count  Dtype  \n",
      "---  ------             --------------  -----  \n",
      " 0   Пол                5000 non-null   int64  \n",
      " 1   Возраст            5000 non-null   float64\n",
      " 2   Зарплата           5000 non-null   float64\n",
      " 3   Члены семьи        5000 non-null   int64  \n",
      " 4   Страховые выплаты  5000 non-null   int64  \n",
      "dtypes: float64(2), int64(3)\n",
      "memory usage: 195.4 KB\n"
     ]
    },
    {
     "data": {
      "text/plain": [
       "None"
      ]
     },
     "metadata": {},
     "output_type": "display_data"
    },
    {
     "data": {
      "text/html": [
       "<div>\n",
       "<style scoped>\n",
       "    .dataframe tbody tr th:only-of-type {\n",
       "        vertical-align: middle;\n",
       "    }\n",
       "\n",
       "    .dataframe tbody tr th {\n",
       "        vertical-align: top;\n",
       "    }\n",
       "\n",
       "    .dataframe thead th {\n",
       "        text-align: right;\n",
       "    }\n",
       "</style>\n",
       "<table border=\"1\" class=\"dataframe\">\n",
       "  <thead>\n",
       "    <tr style=\"text-align: right;\">\n",
       "      <th></th>\n",
       "      <th>Пол</th>\n",
       "      <th>Возраст</th>\n",
       "      <th>Зарплата</th>\n",
       "      <th>Члены семьи</th>\n",
       "      <th>Страховые выплаты</th>\n",
       "    </tr>\n",
       "  </thead>\n",
       "  <tbody>\n",
       "    <tr>\n",
       "      <th>count</th>\n",
       "      <td>5000.00</td>\n",
       "      <td>5000.00</td>\n",
       "      <td>5000.00</td>\n",
       "      <td>5000.00</td>\n",
       "      <td>5000.00</td>\n",
       "    </tr>\n",
       "    <tr>\n",
       "      <th>mean</th>\n",
       "      <td>0.50</td>\n",
       "      <td>30.95</td>\n",
       "      <td>39916.36</td>\n",
       "      <td>1.19</td>\n",
       "      <td>0.15</td>\n",
       "    </tr>\n",
       "    <tr>\n",
       "      <th>std</th>\n",
       "      <td>0.50</td>\n",
       "      <td>8.44</td>\n",
       "      <td>9900.08</td>\n",
       "      <td>1.09</td>\n",
       "      <td>0.46</td>\n",
       "    </tr>\n",
       "    <tr>\n",
       "      <th>min</th>\n",
       "      <td>0.00</td>\n",
       "      <td>18.00</td>\n",
       "      <td>5300.00</td>\n",
       "      <td>0.00</td>\n",
       "      <td>0.00</td>\n",
       "    </tr>\n",
       "    <tr>\n",
       "      <th>25%</th>\n",
       "      <td>0.00</td>\n",
       "      <td>24.00</td>\n",
       "      <td>33300.00</td>\n",
       "      <td>0.00</td>\n",
       "      <td>0.00</td>\n",
       "    </tr>\n",
       "    <tr>\n",
       "      <th>50%</th>\n",
       "      <td>0.00</td>\n",
       "      <td>30.00</td>\n",
       "      <td>40200.00</td>\n",
       "      <td>1.00</td>\n",
       "      <td>0.00</td>\n",
       "    </tr>\n",
       "    <tr>\n",
       "      <th>75%</th>\n",
       "      <td>1.00</td>\n",
       "      <td>37.00</td>\n",
       "      <td>46600.00</td>\n",
       "      <td>2.00</td>\n",
       "      <td>0.00</td>\n",
       "    </tr>\n",
       "    <tr>\n",
       "      <th>max</th>\n",
       "      <td>1.00</td>\n",
       "      <td>65.00</td>\n",
       "      <td>79000.00</td>\n",
       "      <td>6.00</td>\n",
       "      <td>5.00</td>\n",
       "    </tr>\n",
       "  </tbody>\n",
       "</table>\n",
       "</div>"
      ],
      "text/plain": [
       "          Пол  Возраст  Зарплата  Члены семьи  Страховые выплаты\n",
       "count 5000.00  5000.00   5000.00      5000.00            5000.00\n",
       "mean     0.50    30.95  39916.36         1.19               0.15\n",
       "std      0.50     8.44   9900.08         1.09               0.46\n",
       "min      0.00    18.00   5300.00         0.00               0.00\n",
       "25%      0.00    24.00  33300.00         0.00               0.00\n",
       "50%      0.00    30.00  40200.00         1.00               0.00\n",
       "75%      1.00    37.00  46600.00         2.00               0.00\n",
       "max      1.00    65.00  79000.00         6.00               5.00"
      ]
     },
     "metadata": {},
     "output_type": "display_data"
    },
    {
     "name": "stdout",
     "output_type": "stream",
     "text": [
      "Количество полных дубликатов: 153\n"
     ]
    }
   ],
   "source": [
    "description_df(df)"
   ]
  },
  {
   "cell_type": "code",
   "execution_count": 7,
   "id": "6888914e-b210-476a-8a1b-6182672546ec",
   "metadata": {},
   "outputs": [],
   "source": [
    "# Напишем функцию строющую распределения всех столбцов\n",
    "def hist_df(df):\n",
    "    plt.figure(figsize=(20,12))\n",
    "    plt.subplots_adjust(wspace=0.3, hspace=0.5)\n",
    "    \n",
    "    plt.subplot(3, 2, 1)\n",
    "    sns.countplot(y='Пол', data=df, palette='coolwarm')\n",
    "    plt.title('Распределение полов')\n",
    "    plt.xlabel('Кол-во');\n",
    "        \n",
    "    plt.subplot(3, 2, 2)\n",
    "    sns.distplot(df['Возраст'], bins=len(df['Возраст'].unique()))\n",
    "    plt.title('Распределение возрастов')\n",
    "    plt.ylabel('Плотность частоты');\n",
    "\n",
    "    plt.subplot(3, 2, 3)\n",
    "    sns.countplot(y='Страховые выплаты', data=df)\n",
    "    plt.title('Распределение по количеству страховых выплат')\n",
    "    plt.xlabel('Кол-во');\n",
    "\n",
    "    plt.subplot(3, 2, 4)\n",
    "    sns.distplot(df['Зарплата'], bins=100)\n",
    "    plt.title('Распределение зарплат')\n",
    "    plt.ylabel('Плотность частоты');\n",
    "\n",
    "    plt.subplot(3, 2, 5)\n",
    "    sns.countplot(x='Члены семьи', data=df, palette='coolwarm')\n",
    "    plt.title('Распределение по количеству членов семьи')\n",
    "    plt.ylabel('Кол-во');"
   ]
  },
  {
   "cell_type": "code",
   "execution_count": 8,
   "id": "a848672d-7b7c-44e3-9c65-3a45e9fb73f9",
   "metadata": {},
   "outputs": [
    {
     "data": {
      "image/png": "[encoded data removed]",
      "text/plain": [
       "<Figure size 2000x1200 with 5 Axes>"
      ]
     },
     "metadata": {},
     "output_type": "display_data"
    }
   ],
   "source": [
    "hist_df(df)"
   ]
  },
  {
   "cell_type": "markdown",
   "id": "76881c6a-4990-4cab-97ca-a1af8a3b94ee",
   "metadata": {},
   "source": [
    "Резюмируем полученную общую информацию из представленных данных:\n",
    "* Имеем 5тыс. значений, 5 столбцов;\n",
    "* Пропуски в данных отсутствуют;\n",
    "* Столбцы названы по-русски - необходимо переименовать в соответствии с \"хорошим стилем\" для удобства работы с данными;\n",
    "* Имеются полные дубликаты - необходимо будет очистить данные от них;\n",
    "* Целевой признак - **Страховые выплаты**. Больше всего людей не имеющих страховых выплат;\n",
    "* Мужчины и женщины представленные в данных представлены в равном количестве;\n",
    "* Клиенты, представленные в данных имеют возраст от 18 до 65 лет. Большинство клиентов младше 40 лет;\n",
    "* Зарплата клиентов имеет нормальное распределение;\n",
    "* Количество членов семьи варьируется от 0 до 6."
   ]
  },
  {
   "cell_type": "markdown",
   "id": "eb44149d-5c42-477d-b148-4c8bfbf865b7",
   "metadata": {},
   "source": [
    "### Предобработка данных"
   ]
  },
  {
   "cell_type": "markdown",
   "id": "ced76c94-1df3-4ace-9c2a-822b7e2df598",
   "metadata": {},
   "source": [
    "Переименуем столбцы датасета:"
   ]
  },
  {
   "cell_type": "code",
   "execution_count": 9,
   "id": "26989554-3095-4d65-a9a8-96e0a0f4af5b",
   "metadata": {},
   "outputs": [],
   "source": [
    "df.columns = ['sex', 'age', 'salary', 'family_members', 'insurance']"
   ]
  },
  {
   "cell_type": "markdown",
   "id": "63df98d2-9a30-435a-8e1c-6fa59c623ea3",
   "metadata": {},
   "source": [
    "Избавимся от полных дубликатов:"
   ]
  },
  {
   "cell_type": "code",
   "execution_count": 10,
   "id": "e36a3813-c376-4d2b-bd04-0b76bc77318e",
   "metadata": {},
   "outputs": [],
   "source": [
    "df.drop_duplicates(inplace=True)"
   ]
  },
  {
   "cell_type": "markdown",
   "id": "e47dd703-f3e4-448a-9161-9e5342363902",
   "metadata": {},
   "source": [
    "Изменим типы данных столбцов **Возраст** и **Зарплата** на целочисленный:"
   ]
  },
  {
   "cell_type": "code",
   "execution_count": 11,
   "id": "8c7818ff-3962-4c70-a8d3-51a052d22709",
   "metadata": {},
   "outputs": [],
   "source": [
    "df[['age', 'salary']] = df[['age', 'salary']].astype('int64')"
   ]
  },
  {
   "cell_type": "code",
   "execution_count": 12,
   "id": "bd17b854-c2b2-4b01-a1b6-90bd0d246a02",
   "metadata": {},
   "outputs": [
    {
     "data": {
      "text/plain": [
       "sex               int64\n",
       "age               int64\n",
       "salary            int64\n",
       "family_members    int64\n",
       "insurance         int64\n",
       "dtype: object"
      ]
     },
     "execution_count": 12,
     "metadata": {},
     "output_type": "execute_result"
    }
   ],
   "source": [
    "df.dtypes"
   ]
  },
  {
   "cell_type": "markdown",
   "id": "270b41a4-497c-4a69-8c2a-5f9ed2c75d39",
   "metadata": {},
   "source": [
    "**Вывод:**  \n",
    "* Изучили общие данные;\n",
    "* Предобработали данные:\n",
    "    * Избавили от думабликатов;\n",
    "    * Переименовали столбцы;\n",
    "    * Преобразовали тип данных."
   ]
  },
  {
   "cell_type": "markdown",
   "id": "9cf51da2-daee-4890-8f68-67f1236ad542",
   "metadata": {},
   "source": [
    "## Умножение матриц"
   ]
  },
  {
   "cell_type": "markdown",
   "id": "31683630-dff6-4272-bef5-0072b42f5e4e",
   "metadata": {},
   "source": [
    "Обозначения:\n",
    "\n",
    "- $X$ — матрица признаков (нулевой столбец состоит из единиц)\n",
    "\n",
    "- $y$ — вектор целевого признака\n",
    "\n",
    "- $P$ — матрица, на которую умножаются признаки\n",
    "\n",
    "- $w$ — вектор весов линейной регрессии (нулевой элемент равен сдвигу)"
   ]
  },
  {
   "cell_type": "markdown",
   "id": "4f4daba0-6176-440b-b761-e3fb5d97393a",
   "metadata": {},
   "source": [
    "Формула расчета предсказаний:\n",
    "$$\n",
    "a = Xw\n",
    "$$\n",
    "\n",
    "Задача обучения:\n",
    "$$\n",
    "w = \\arg\\min_w MSE(Xw, y)\n",
    "$$\n",
    "\n",
    "Формула обучения (ветор весов линейной регрессии $w$):\n",
    "$$\n",
    "w = (X^T X)^{-1} X^T y\n",
    "$$"
   ]
  },
  {
   "cell_type": "markdown",
   "id": "9f58e60c-3750-4230-aec3-7a70cda8d917",
   "metadata": {},
   "source": [
    "**Вопрос:** изменится ли качество линейной регрессии при умножении признаков на обратную матрицу?"
   ]
  },
  {
   "cell_type": "markdown",
   "id": "dd4f7915-b86f-4f5f-b945-1b9a1c68d032",
   "metadata": {},
   "source": [
    "Для ответа на вопрос произведем некоторые преобразования. \n",
    "1. Обозначим новые предсказания как $a'$, новую матрицу предсказания как $Z$, новый вектор весов $w'$. Получим следующую формулу:\n",
    "$$\n",
    "a' = Z w',\n",
    "$$\n",
    "где $Z$ = $X P$\n",
    "\n",
    "2. Подставим новую матрицу в формулу весов линейной регрессии:\n",
    "$$\n",
    "w' = ((X P)^T X P)^{-1} (X P)^T y\n",
    "$$\n",
    "\n",
    "3. Выпишем основные свойства матриц:\n",
    "\n",
    "- ($A(BC) = (AB)C$) - это свойство ассоциативности (сочетательности) матриц<br>\n",
    "- $(P^T)^{-1} = (P^{-1})^T$ - то есть: транспортированная оратная матрица есть обратная матрица транспортированная <br>\n",
    "- $(AB)^T = B^T A^T$ - то есть: транспонированное произведение матриц равно произведению транспонированных матриц <br>\n",
    "- $(AB)^{-1} = B^{-1} A^{-1}$ - то есть: обратная матрица от произведения двух матриц равна обратной матрицы B (второй) к обратной матрице А (первой)<br>\n",
    "- $P P^{-1} = E$ - умножение матрицы на свою обратную - есть единичная матрица.<br>\n",
    "- $(ABC)^{-1} =C^{-1} B^{-1} A^{-1}$<br>"
   ]
  },
  {
   "cell_type": "markdown",
   "id": "fc77c37d",
   "metadata": {},
   "source": [
    "4. Раскроем скобки из п.2 с помощью свойств из п.3:\n",
    "\n",
    "$$\n",
    "w' = (P^T X^T XP)^{-1} P^T X^T y\n",
    "$$"
   ]
  },
  {
   "cell_type": "markdown",
   "id": "4b0dc303-5bfb-4dcd-869f-4087a9b87056",
   "metadata": {},
   "source": [
    "продолжая раскрывать скобки получим:\n",
    "$$ \n",
    "w' = P^{-1} X^{-1} (X^T)^{-1} (P^T)^{-1} P^T X^T  y\n",
    "$$\n",
    "т.к. $(P^T)^{-1} P^T = (P^{-1})^T P^T = (P P^{-1})^T = E$ (единичная матрица равная самой себе), сократим запись"
   ]
  },
  {
   "cell_type": "markdown",
   "id": "1d925b97",
   "metadata": {},
   "source": [
    "$$ \n",
    "w' = P^{-1} X^{-1} (X^T)^{-1} X^T y = P^{-1} X^{-1} (X^{-1})^T X^T y = P^{-1} X^{-1} (X^T)^{-1} X^T y = P^{-1} (X^T X)^{-1} X^T y\n",
    "$$\n",
    "\n",
    "5. Правая часть выражения $(X^T X)^{-1} X^T y = w$, соответственно:\n",
    "\n",
    "$$\n",
    "w' = P^{-1} w\n",
    "$$"
   ]
  },
  {
   "cell_type": "markdown",
   "id": "f9149417-dad0-4930-8b67-ae798d511b77",
   "metadata": {},
   "source": [
    "6. Подставим получившиеся выражение из п.5 в п.1 (учитывая, что $Z = XP$) и получим:\n",
    "$$\n",
    "a' = XP (P^{-1} w) = X (P P^{-1}) w = Xw = a\n",
    "$$"
   ]
  },
  {
   "cell_type": "markdown",
   "id": "81dac12f",
   "metadata": {},
   "source": [
    "$$\n",
    "a = Xw = XEw = XPP^{-1}w = (XP)P^{-1}w = (XP)w'\n",
    "$$\n",
    "\n",
    "$$\n",
    "w' = ((XP)^T XP)^{-1} (XP)^T y\n",
    "$$\n",
    "$$\n",
    "w' = (P^T (X^T X) P)^{-1} (XP)^T y\n",
    "$$\n",
    "$$\n",
    "w' = (P^T (X^T X) P)^{-1} P^T X^T y\n",
    "$$\n",
    "$$\n",
    "w' = P^{-1} (X^T X)^{-1} (P^T)^{-1} P^T X^T y\n",
    "$$"
   ]
  },
  {
   "cell_type": "markdown",
   "id": "85048c60",
   "metadata": {},
   "source": [
    "$$\n",
    "w' = P^{-1} (X^T X)^{-1} (P^{-1})^T P^T X^T y\n",
    "$$\n",
    "$$\n",
    "w' = P^{-1} (X^T X)^{-1} (P P^{-1})^T X^T y\n",
    "$$\n",
    "$$\n",
    "w' = P^{-1} (X^T X)^{-1} E X^T y\n",
    "$$\n",
    "$$\n",
    "w' = P^{-1} (X^T X)^{-1} X^T y\n",
    "$$\n",
    ", где $(X^T X)^{-1} X^T y = w$\n",
    "Следовательно:\n",
    "$$\n",
    "w' = P^{-1} w\n",
    "$$"
   ]
  },
  {
   "cell_type": "markdown",
   "id": "38cf90f4-6899-48fe-b7cd-5d0aa9e25975",
   "metadata": {},
   "source": [
    "**Ответ:** качество линейной регрессии при умножении признаков на обратную матрицу не изменится."
   ]
  },
  {
   "cell_type": "markdown",
   "id": "c95179f8-5da5-415b-b7bd-1fbad300a678",
   "metadata": {},
   "source": [
    "## Алгоритм преобразования данных для решения задачи"
   ]
  },
  {
   "cell_type": "markdown",
   "id": "631f8d07-407c-4504-aced-3e5731c2d19b",
   "metadata": {},
   "source": [
    "**Алгоритм:**  \n",
    "1. Разделим данные на признаки (*x*) и целевой признак (*y*).\n",
    "2. Создадим случайную матрицу 4х4 и проверим ее на обратимость.\n",
    "3. Напишем функцию обучения модели линейной регрессии.\n",
    "4. Зашифруем данные клиентов страховой компании, умножив матрицу признаков *X* на случайную обратимую матрицу *P*\n",
    "\n",
    "$$\n",
    "Z = X P\n",
    "$$\n",
    "Тогда исходая матрица будет выражена как:\n",
    "$$\n",
    "X = Z P^{-1}\n",
    "$$\n",
    "\n",
    "5. Рассчитаем значение метрики *R2* для *Z* и *X*.\n",
    "\n",
    "**Обоснование:**  ранее было доказано, что при умножении матрицы признаков на любую обратимую матрицу качество линейной регрессии не изменится. Соответственно, можно смело получить другой результат линейной регрессии по описанному выше алгоритму."
   ]
  },
  {
   "cell_type": "markdown",
   "id": "f145827c-545c-42f2-9a98-ef537f4aa220",
   "metadata": {},
   "source": [
    "## Проверка алгоритма"
   ]
  },
  {
   "cell_type": "markdown",
   "id": "ca2cc05b-2480-43e5-9c05-123f93874f47",
   "metadata": {},
   "source": [
    "Проверим написанный алгоритм на предоставленных данных."
   ]
  },
  {
   "cell_type": "code",
   "execution_count": 13,
   "id": "5ee7f392-a100-48e3-b272-92010731a75d",
   "metadata": {},
   "outputs": [],
   "source": [
    "# Выделим признаки и целевой признак\n",
    "x = df.drop('insurance', axis=1)\n",
    "y = df['insurance']"
   ]
  },
  {
   "cell_type": "code",
   "execution_count": 14,
   "id": "96f10d95-aade-4a07-a59a-1d96027df2b4",
   "metadata": {},
   "outputs": [
    {
     "data": {
      "text/plain": [
       "array([[ 0.61020108, -0.54096252,  0.23130672, -2.01164108],\n",
       "       [-1.65766803, -0.11583878,  0.79222536, -0.83355904],\n",
       "       [ 0.51298278,  0.58425192,  1.65368854, -0.21241222],\n",
       "       [ 1.49124196,  1.05358488,  0.13108339, -1.62321617]])"
      ]
     },
     "execution_count": 14,
     "metadata": {},
     "output_type": "execute_result"
    }
   ],
   "source": [
    "# Создадим случайную матрицу 4х4\n",
    "p = np.random.normal(size=(4,4))\n",
    "p"
   ]
  },
  {
   "cell_type": "markdown",
   "id": "0c30a18f-2ceb-40a1-b783-1117c8c2d560",
   "metadata": {},
   "source": [
    "Проверим матрицу на обратимость - вероятность сгенерировать необратимую матрицу очень мала, но все же есть. При использовании необратимой матрицы дальнейшая работа по описанному алгоритму невозможна. Для проверки будем использовать функцию `numpy.linalg.inv()`, если матрица необратима, то код упадет с ошибкой."
   ]
  },
  {
   "cell_type": "code",
   "execution_count": 15,
   "id": "56e10e79-e77f-4799-a854-c819ceb2f416",
   "metadata": {},
   "outputs": [
    {
     "data": {
      "text/plain": [
       "array([[ 0.2300962 , -0.50225704,  0.21279603, -0.05508233],\n",
       "       [-0.6904037 ,  0.33689195, -0.12017969,  0.69833751],\n",
       "       [ 0.14362612,  0.00565554,  0.60249897, -0.25974148],\n",
       "       [-0.22513501, -0.24229747,  0.16614452, -0.23436868]])"
      ]
     },
     "execution_count": 15,
     "metadata": {},
     "output_type": "execute_result"
    }
   ],
   "source": [
    "p_inv = np.linalg.inv(p)\n",
    "p_inv"
   ]
  },
  {
   "cell_type": "code",
   "execution_count": 16,
   "id": "75eb29d0-09d3-47c6-a8ce-72eff0c50e7c",
   "metadata": {},
   "outputs": [
    {
     "data": {
      "text/plain": [
       "array([[ 1.,  0., -0., -0.],\n",
       "       [-0.,  1., -0.,  0.],\n",
       "       [ 0.,  0.,  1.,  0.],\n",
       "       [ 0., -0.,  0.,  1.]])"
      ]
     },
     "execution_count": 16,
     "metadata": {},
     "output_type": "execute_result"
    }
   ],
   "source": [
    "(p @ p_inv).round(2)"
   ]
  },
  {
   "cell_type": "markdown",
   "id": "f3728c2f-cef3-4a9b-ae7e-5f85749a9ace",
   "metadata": {},
   "source": [
    "Матрица обратима. Переходим к написанию функции обучения модели."
   ]
  },
  {
   "cell_type": "code",
   "execution_count": 17,
   "id": "bbea7d00-b25e-4dab-8b40-3843c01fc9c8",
   "metadata": {},
   "outputs": [],
   "source": [
    "# Напишем функцию обучения модели\n",
    "def lin_alg(features, target):\n",
    "    '''\n",
    "    Обучает модель линейной регрессии и  \n",
    "    возвращает значение метрики R2\n",
    "    '''\n",
    "    \n",
    "    # Объявим модель\n",
    "    lr = LinearRegression()\n",
    "    # обучим модель\n",
    "    lr.fit(features, target)\n",
    "    # получим предсказания модели\n",
    "    predict = lr.predict(features)\n",
    "    # Считаем метрикуR2\n",
    "    out_r2_score = r2_score(target, predict)\n",
    "    \n",
    "    return out_r2_score"
   ]
  },
  {
   "cell_type": "code",
   "execution_count": 18,
   "id": "e02116ca-5edf-4efc-bbf7-83e678ca0f50",
   "metadata": {},
   "outputs": [],
   "source": [
    "# Умножим случайную матрицу на признаки\n",
    "z = x @ p"
   ]
  },
  {
   "cell_type": "code",
   "execution_count": 19,
   "id": "79b80017-92b2-4842-9595-4be353106728",
   "metadata": {},
   "outputs": [
    {
     "name": "stdout",
     "output_type": "stream",
     "text": [
      "R2 исходного набора данных:  0.4302\n",
      "R2 преобразованного набора данных:  0.4302\n"
     ]
    }
   ],
   "source": [
    "# выведем значение метрики на исходных и преобразованных признаках\n",
    "print(\"R2 исходного набора данных: \", lin_alg(x, y).round(4))\n",
    "print(\"R2 преобразованного набора данных: \", lin_alg(z, y).round(4))"
   ]
  },
  {
   "cell_type": "markdown",
   "id": "12b6fdc6-2fcf-4051-b0ac-1254dabe9994",
   "metadata": {},
   "source": [
    "**Вывод:**  \n",
    "* Выбранный алгоритм проверки описан, обоснован и проверен;\n",
    "* Проведённый эксперимент показал, что значения метрики *R2* (коэф-т детерминации) ДО и ПОСЛЕ преобразования данных не изменилось. Это говорит о том, что качество модели также не изменилось;\n",
    "* Значение коэф-та детерминации получилось ниже 0,5, что говорит о довольно низком качестве построенной модели;\n",
    "* Случайность, реализованная в алгоритме каждый раз изменяет домножаемую матрицу при запуске, что делает зашифрованные данные каждый раз новыми. Такой вид исходных данных становится очень сложно восстановить без кода программы;\n",
    "* Реализованный алгоритм полностью удовлетворяет поставленной задаче по защите персональных данных клиентов страховой компании."
   ]
  }
 ],
 "metadata": {
  "ExecuteTimeLog": [
   {
    "duration": 5639,
    "start_time": "2023-10-26T12:38:42.377Z"
   },
   {
    "duration": 4,
    "start_time": "2023-10-26T12:38:48.018Z"
   },
   {
    "duration": 102,
    "start_time": "2023-10-26T12:38:48.024Z"
   },
   {
    "duration": 3,
    "start_time": "2023-10-26T12:39:16.592Z"
   },
   {
    "duration": 4,
    "start_time": "2023-10-26T12:39:22.302Z"
   },
   {
    "duration": 48,
    "start_time": "2023-10-26T12:39:23.518Z"
   },
   {
    "duration": 7,
    "start_time": "2023-10-26T12:39:24.319Z"
   },
   {
    "duration": 1006,
    "start_time": "2023-10-26T12:39:25.218Z"
   },
   {
    "duration": 3,
    "start_time": "2023-10-26T12:40:26.151Z"
   },
   {
    "duration": 6,
    "start_time": "2023-10-26T12:40:27.430Z"
   },
   {
    "duration": 8,
    "start_time": "2023-10-26T12:40:29.012Z"
   },
   {
    "duration": 5,
    "start_time": "2023-10-26T12:40:29.441Z"
   },
   {
    "duration": 4,
    "start_time": "2023-10-26T12:41:52.111Z"
   },
   {
    "duration": 5,
    "start_time": "2023-10-26T12:41:53.692Z"
   },
   {
    "duration": 5,
    "start_time": "2023-10-26T12:41:56.180Z"
   },
   {
    "duration": 5,
    "start_time": "2023-10-26T12:42:35.180Z"
   },
   {
    "duration": 9,
    "start_time": "2023-10-26T12:42:48.799Z"
   },
   {
    "duration": 3,
    "start_time": "2023-10-26T12:42:49.594Z"
   },
   {
    "duration": 122,
    "start_time": "2023-10-26T12:42:50.430Z"
   }
  ],
  "celltoolbar": "Необработанный формат ячейки",
  "kernelspec": {
   "display_name": "Python 3 (ipykernel)",
   "language": "python",
   "name": "python3"
  },
  "language_info": {
   "codemirror_mode": {
    "name": "ipython",
    "version": 3
   },
   "file_extension": ".py",
   "mimetype": "text/x-python",
   "name": "python",
   "nbconvert_exporter": "python",
   "pygments_lexer": "ipython3",
   "version": "3.9.16"
  },
  "toc": {
   "base_numbering": 1,
   "nav_menu": {},
   "number_sections": true,
   "sideBar": true,
   "skip_h1_title": true,
   "title_cell": "Содержание",
   "title_sidebar": "Contents",
   "toc_cell": true,
   "toc_position": {
    "height": "calc(100% - 180px)",
    "left": "10px",
    "top": "150px",
    "width": "426.667px"
   },
   "toc_section_display": true,
   "toc_window_display": true
  }
 },
 "nbformat": 4,
 "nbformat_minor": 5
}
